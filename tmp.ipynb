{
 "cells": [
  {
   "cell_type": "code",
   "execution_count": null,
   "id": "e96a746d-c133-46ad-9f3b-1b04bfddb03b",
   "metadata": {},
   "outputs": [],
   "source": []
  },
  {
   "cell_type": "code",
   "execution_count": 2,
   "id": "ceeb616c-c0db-45dc-8bed-6569afa26600",
   "metadata": {},
   "outputs": [],
   "source": [
    "import yaml\n",
    "from PIL import Image\n",
    "with open('pipeline_config.yaml', 'r') as file:\n",
    "    pipeline_config = yaml.safe_load(file)"
   ]
  },
  {
   "cell_type": "code",
   "execution_count": 7,
   "id": "a070982d-52d9-4d83-85f0-971e462eb7cb",
   "metadata": {},
   "outputs": [],
   "source": [
    "url = 'https://img.freepik.com/free-photo/portrait-american-woman_53876-148185.jpg'"
   ]
  },
  {
   "cell_type": "code",
   "execution_count": 5,
   "id": "6b444a6f-2ae9-4e00-8a5b-e7db6602305d",
   "metadata": {},
   "outputs": [],
   "source": [
    "system_prompt = '''\n",
    "Please describe the garment in this image in detail using the following structure:\n",
    "1. Type of Garment:\n",
    "2. Sleeve Length:\n",
    "3. Neckline/Collar Type:\n",
    "4. Button or Zipper:\n",
    "5. Pattern/Design:\n",
    "6. Dominant Colors:\n",
    "7. Picture/Graphic (if any): If the garment has any pictures or graphics, describe what they are and their colors.\n",
    "8. Material/Fabric Type:\n",
    "9. Fit (e.g., slim, regular, oversized):\n",
    "10. Hemline Length (if applicable):\n",
    "11. Special Features (e.g., pockets, embroidery, embellishments):\n",
    "12. Cuffs (if any):\n",
    "13. Back Design (if different from the front):\n",
    "14. Occasion/Style (e.g., casual, formal, athletic):\n",
    "15. Brand (if visible on the garment):\n",
    "\n",
    "Please format the text description as if you're writing a reference-style title, for example: \n",
    "\"Long Sleeve Collared Button-Down Gingham Shirt in Red and White, featuring a soft cotton fabric with a relaxed fit. The shirt has buttoned cuffs and a straight hemline, with no additional graphics or logos. Designed for casual wear, the shirt's lightweight material makes it ideal for everyday use. The gingham pattern gives it a classic, timeless look, while the buttons down the front add a touch of sophistication. Perfect for both layering or wearing alone, this versatile piece suits casual and semi-formal occasions alike.\"\n",
    "'''\n"
   ]
  },
  {
   "cell_type": "code",
   "execution_count": null,
   "id": "e1d029f9-b288-4a4c-9da4-8b65e76bdeeb",
   "metadata": {},
   "outputs": [],
   "source": [
    "from pydantic import BaseModel\n",
    "from typing import Optional\n",
    "\n",
    "class GarmentAttributes(BaseModel):\n",
    "    type_of_garment: str\n",
    "    sleeve_length: str\n",
    "    neckline_or_collar_type: str\n",
    "    button_or_zipper: Optional[str]\n",
    "    pattern_or_design: Optional[str]\n",
    "    dominant_colors: str\n",
    "    picture_or_graphic: Optional[str]\n",
    "    material_or_fabric_type: Optional[str]\n",
    "    fit: Optional[str]\n",
    "    hemline_length: Optional[str]\n",
    "    special_features: Optional[str]\n",
    "    cuffs: Optional[str]\n",
    "    occasion_or_style: Optional[str]\n",
    "    brand: Optional[str]\n",
    "\n",
    "\n",
    "# Final super class that holds both structured attributes and long description\n",
    "class GarmentDescription(GarmentAttributes):\n",
    "    attrebutes: GarmentAttrebutes\n",
    "    text_description: str"
   ]
  },
  {
   "cell_type": "code",
   "execution_count": null,
   "id": "e011938a-7d10-4a4e-864a-73720e191bc8",
   "metadata": {},
   "outputs": [],
   "source": [
    "from PIL import Image\n",
    "import io\n",
    "import base64\n",
    "\n",
    "def encode_image_pil(pil_image):\n",
    "    buffered = io.BytesIO()\n",
    "    pil_image.save(buffered, format=\"JPEG\")\n",
    "    return base64.b64encode(buffered.getvalue()).decode(\"utf-8\")"
   ]
  },
  {
   "cell_type": "code",
   "execution_count": 18,
   "id": "73555592-e243-45a8-824c-94105d6b44e8",
   "metadata": {},
   "outputs": [],
   "source": [
    "from pydantic import BaseModel\n",
    "import openai\n",
    "\n",
    "# Define your Pydantic model for the expected response structure\n",
    "class ImageDescription(BaseModel):\n",
    "    description: str\n",
    "\n",
    "client = OpenAI(\n",
    "    api_key=api_key,\n",
    ")\n",
    "\n",
    "img = Image.open('example/cloth/Long Sleeve Belted Wrap Coat in Dark Green with Stand Collar.jpg')\n",
    "img = img.resize((256,256))"
   ]
  },
  {
   "cell_type": "code",
   "execution_count": null,
   "id": "7b9c60f2-2b9d-4129-8225-ff7fee8e1270",
   "metadata": {},
   "outputs": [],
   "source": [
    "base64_image = encode_image_pil(img)\n",
    "\n",
    "# Make a request to the OpenAI API with structured outputs\n",
    "response = client.beta.chat.completions.parse(\n",
    "    model=\"gpt-4o-mini\",\n",
    "    messages=[\n",
    "        {\n",
    "            \"role\": \"system\",\n",
    "            \"content\": system_prompt\n",
    "        },\n",
    "        {\n",
    "            \"role\": \"user\",\n",
    "            \"content\": [\n",
    "                {\"type\": \"text\", \"text\": \"Describe this garment:\"},\n",
    "                {\"type\": \"image_url\", \"image_url\": {\"url\": f\"data:image/jpeg;base64,{base64_image}\"}}\n",
    "            ]\n",
    "        }\n",
    "    ],\n",
    "    response_format=GarmentDescription,\n",
    ")\n",
    "\n",
    "\n",
    "# Print the structured description\n",
    "print(image_description.description)"
   ]
  },
  {
   "cell_type": "code",
   "execution_count": null,
   "id": "59930206-3db7-48b5-ac3d-fd24d6face17",
   "metadata": {},
   "outputs": [],
   "source": []
  },
  {
   "cell_type": "code",
   "execution_count": null,
   "id": "e77ebb65-0ca0-4bc9-b8cf-e40ee80070ad",
   "metadata": {},
   "outputs": [],
   "source": []
  },
  {
   "cell_type": "code",
   "execution_count": null,
   "id": "11163826-484f-4d7d-99ff-441ad5876b9c",
   "metadata": {},
   "outputs": [],
   "source": []
  },
  {
   "cell_type": "code",
   "execution_count": null,
   "id": "053309cf-c123-4cb0-b475-1b7e99b8ac84",
   "metadata": {},
   "outputs": [],
   "source": []
  }
 ],
 "metadata": {
  "kernelspec": {
   "display_name": "Python 3 (ipykernel)",
   "language": "python",
   "name": "python3"
  },
  "language_info": {
   "codemirror_mode": {
    "name": "ipython",
    "version": 3
   },
   "file_extension": ".py",
   "mimetype": "text/x-python",
   "name": "python",
   "nbconvert_exporter": "python",
   "pygments_lexer": "ipython3",
   "version": "3.10.12"
  }
 },
 "nbformat": 4,
 "nbformat_minor": 5
}
